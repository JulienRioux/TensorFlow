{
 "cells": [
  {
   "cell_type": "markdown",
   "metadata": {},
   "source": [
    "http://setosa.io/ev/image-kernels/"
   ]
  },
  {
   "cell_type": "markdown",
   "metadata": {},
   "source": [
    "# MNIST CNN"
   ]
  },
  {
   "cell_type": "code",
   "execution_count": 125,
   "metadata": {
    "collapsed": true
   },
   "outputs": [],
   "source": [
    "import tensorflow as tf"
   ]
  },
  {
   "cell_type": "code",
   "execution_count": 126,
   "metadata": {
    "collapsed": true
   },
   "outputs": [],
   "source": [
    "from tensorflow.examples.tutorials.mnist import input_data"
   ]
  },
  {
   "cell_type": "code",
   "execution_count": 127,
   "metadata": {
    "scrolled": true
   },
   "outputs": [
    {
     "name": "stdout",
     "output_type": "stream",
     "text": [
      "Extracting MNIST_data/train-images-idx3-ubyte.gz\n",
      "Extracting MNIST_data/train-labels-idx1-ubyte.gz\n",
      "Extracting MNIST_data/t10k-images-idx3-ubyte.gz\n",
      "Extracting MNIST_data/t10k-labels-idx1-ubyte.gz\n"
     ]
    }
   ],
   "source": [
    "mnist = input_data.read_data_sets(\"MNIST_data/\", one_hot=True)"
   ]
  },
  {
   "cell_type": "markdown",
   "metadata": {},
   "source": [
    "### Helper Function"
   ]
  },
  {
   "cell_type": "code",
   "execution_count": 128,
   "metadata": {
    "collapsed": true
   },
   "outputs": [],
   "source": [
    "# Init weights\n",
    "\n",
    "def init_weights(shape):\n",
    "    \n",
    "    init_random_dist = tf.truncated_normal(shape, stddev=0.1)\n",
    "    \n",
    "    return tf.Variable(init_random_dist)"
   ]
  },
  {
   "cell_type": "code",
   "execution_count": 129,
   "metadata": {
    "collapsed": true
   },
   "outputs": [],
   "source": [
    "# Init biais\n",
    "\n",
    "def init_biais(shape):\n",
    "    \n",
    "    init_biais_vals = tf.constant(0.1, shape=shape)\n",
    "    \n",
    "    return tf.Variable(init_biais_vals)"
   ]
  },
  {
   "cell_type": "code",
   "execution_count": 130,
   "metadata": {
    "collapsed": true
   },
   "outputs": [],
   "source": [
    "# Conv2D\n",
    "\n",
    "def conv2d(x, W):\n",
    "    \n",
    "    # x => input tensor => [batch, H, W, Channels (color)]\n",
    "    # W => kernel => [filter H, filter, W, Channels IN, Channels OUT]\n",
    "    \n",
    "    return tf.nn.conv2d(x, W, strides=[1,1,1,1], padding=\"SAME\")"
   ]
  },
  {
   "cell_type": "code",
   "execution_count": 131,
   "metadata": {
    "collapsed": true
   },
   "outputs": [],
   "source": [
    "# Pooling layer\n",
    "\n",
    "def max_pool_2by2(x):\n",
    "    \n",
    "    # x => input tensor => [batch, H, W, Channels]\n",
    "    \n",
    "    return tf.nn.max_pool(x, ksize=[1,2,2,1], \n",
    "                          strides=[1,2,2,1], padding=\"SAME\")"
   ]
  },
  {
   "cell_type": "code",
   "execution_count": 132,
   "metadata": {
    "collapsed": true
   },
   "outputs": [],
   "source": [
    "# Convolutional Layer\n",
    "\n",
    "def convolutional_layer(input_x, shape):\n",
    "    \n",
    "    W = init_weights(shape)\n",
    "    b = init_biais([shape[3]])\n",
    "    \n",
    "    return tf.nn.relu(conv2d(input_x, W) + b)"
   ]
  },
  {
   "cell_type": "code",
   "execution_count": 133,
   "metadata": {
    "collapsed": true
   },
   "outputs": [],
   "source": [
    "# Normal Layer (Fully connected layer)\n",
    "\n",
    "def normal_full_layer(input_layer, size):\n",
    "    \n",
    "    input_size = int(input_layer.get_shape()[1])\n",
    "    W = init_weights([input_size, size])\n",
    "    b = init_biais([size])\n",
    "    \n",
    "    return tf.matmul(input_layer, W) + b"
   ]
  },
  {
   "cell_type": "code",
   "execution_count": 134,
   "metadata": {
    "collapsed": true
   },
   "outputs": [],
   "source": [
    "# Placeholders\n",
    "\n",
    "x = tf.placeholder(tf.float32, shape=[None, 784])\n",
    "\n",
    "y_true = tf.placeholder(tf.float32, shape=[None, 10])"
   ]
  },
  {
   "cell_type": "code",
   "execution_count": 135,
   "metadata": {
    "collapsed": true
   },
   "outputs": [],
   "source": [
    "# Layers\n",
    "\n",
    "# Reshape the flatten array into the image again\n",
    "x_image = tf.reshape(x,[-1,28,28,1]) "
   ]
  },
  {
   "cell_type": "code",
   "execution_count": 138,
   "metadata": {},
   "outputs": [],
   "source": [
    "# First convolutional layer\n",
    "\n",
    "# shape = [patchWidth, patchHeight, inputChannel(GrayScale), numberOfOutputChannel(features that you compute)]\n",
    "convo_1 = convolutional_layer(x_image, shape=[5,5,1,32])\n",
    "\n",
    "# Call my first pooling layer\n",
    "convo_1_pooling = max_pool_2by2(convo_1)"
   ]
  },
  {
   "cell_type": "code",
   "execution_count": 140,
   "metadata": {},
   "outputs": [],
   "source": [
    "# Second convolutional layer\n",
    "\n",
    "# The input is now 32 and we want 64 features for each 5x5 patchs\n",
    "convo_2 = convolutional_layer(convo_1_pooling, shape=[5,5,32,64])\n",
    "\n",
    "# Call 2nd pooling layer\n",
    "convo_2_pooling = max_pool_2by2(convo_2)"
   ]
  },
  {
   "cell_type": "code",
   "execution_count": 142,
   "metadata": {},
   "outputs": [],
   "source": [
    "# Flatten out the result layer to connect to a fully connected layer\n",
    "\n",
    "convo_2_flat = tf.reshape(convo_2_pooling, [-1,7*7*64])\n",
    "\n",
    "full_layer_one = tf.nn.relu(normal_full_layer(convo_2_flat, 1024))"
   ]
  },
  {
   "cell_type": "code",
   "execution_count": 143,
   "metadata": {
    "collapsed": true
   },
   "outputs": [],
   "source": [
    "# Add Dropout\n",
    "\n",
    "hold_prob = tf.placeholder(tf.float32)\n",
    "\n",
    "full_one_dropout = tf.nn.dropout(full_layer_one, keep_prob=hold_prob)"
   ]
  },
  {
   "cell_type": "code",
   "execution_count": 145,
   "metadata": {
    "collapsed": true
   },
   "outputs": [],
   "source": [
    "# Create our y_predictions\n",
    "\n",
    "y_pred = normal_full_layer(full_one_dropout, 10)"
   ]
  },
  {
   "cell_type": "code",
   "execution_count": 146,
   "metadata": {
    "collapsed": true
   },
   "outputs": [],
   "source": [
    "# Loss Function\n",
    "\n",
    "cross_entropy = tf.reduce_mean(tf.nn.softmax_cross_entropy_with_logits(labels=y_true, logits=y_pred))"
   ]
  },
  {
   "cell_type": "code",
   "execution_count": 147,
   "metadata": {
    "collapsed": true
   },
   "outputs": [],
   "source": [
    "# Optimizer\n",
    "\n",
    "optimizer = tf.train.AdamOptimizer(learning_rate = 0.001)\n",
    "train = optimizer.minimize(cross_entropy)"
   ]
  },
  {
   "cell_type": "code",
   "execution_count": 148,
   "metadata": {
    "collapsed": true
   },
   "outputs": [],
   "source": [
    "# Initialization of the variables\n",
    "\n",
    "init = tf.global_variables_initializer()"
   ]
  },
  {
   "cell_type": "code",
   "execution_count": 153,
   "metadata": {},
   "outputs": [
    {
     "name": "stdout",
     "output_type": "stream",
     "text": [
      "On Step: 0\n",
      "Accuracy:\n",
      "0.1119\n",
      "\n",
      "\n",
      "On Step: 100\n",
      "Accuracy:\n",
      "0.9489\n",
      "\n",
      "\n",
      "On Step: 200\n",
      "Accuracy:\n",
      "0.9652\n",
      "\n",
      "\n",
      "On Step: 300\n",
      "Accuracy:\n",
      "0.9706\n",
      "\n",
      "\n",
      "On Step: 400\n",
      "Accuracy:\n",
      "0.9745\n",
      "\n",
      "\n",
      "On Step: 500\n",
      "Accuracy:\n",
      "0.9772\n",
      "\n",
      "\n",
      "On Step: 600\n",
      "Accuracy:\n",
      "0.9799\n",
      "\n",
      "\n",
      "On Step: 700\n",
      "Accuracy:\n",
      "0.982\n",
      "\n",
      "\n",
      "On Step: 800\n",
      "Accuracy:\n",
      "0.9822\n",
      "\n",
      "\n",
      "On Step: 900\n",
      "Accuracy:\n",
      "0.9858\n",
      "\n",
      "\n",
      "On Step: 1000\n",
      "Accuracy:\n",
      "0.9869\n",
      "\n",
      "\n",
      "On Step: 1100\n",
      "Accuracy:\n",
      "0.9846\n",
      "\n",
      "\n",
      "On Step: 1200\n",
      "Accuracy:\n",
      "0.9865\n",
      "\n",
      "\n",
      "On Step: 1300\n",
      "Accuracy:\n",
      "0.9864\n",
      "\n",
      "\n",
      "On Step: 1400\n",
      "Accuracy:\n",
      "0.9845\n",
      "\n",
      "\n",
      "On Step: 1500\n",
      "Accuracy:\n",
      "0.9871\n",
      "\n",
      "\n",
      "On Step: 1600\n",
      "Accuracy:\n",
      "0.9854\n",
      "\n",
      "\n",
      "On Step: 1700\n",
      "Accuracy:\n",
      "0.9872\n",
      "\n",
      "\n",
      "On Step: 1800\n",
      "Accuracy:\n",
      "0.9878\n",
      "\n",
      "\n",
      "On Step: 1900\n",
      "Accuracy:\n",
      "0.9842\n",
      "\n",
      "\n",
      "On Step: 2000\n",
      "Accuracy:\n",
      "0.9867\n",
      "\n",
      "\n",
      "On Step: 2100\n",
      "Accuracy:\n",
      "0.9891\n",
      "\n",
      "\n",
      "On Step: 2200\n",
      "Accuracy:\n",
      "0.9867\n",
      "\n",
      "\n",
      "On Step: 2300\n",
      "Accuracy:\n",
      "0.9882\n",
      "\n",
      "\n",
      "On Step: 2400\n",
      "Accuracy:\n",
      "0.9897\n",
      "\n",
      "\n",
      "On Step: 2500\n",
      "Accuracy:\n",
      "0.9903\n",
      "\n",
      "\n",
      "On Step: 2600\n",
      "Accuracy:\n",
      "0.9852\n",
      "\n",
      "\n",
      "On Step: 2700\n",
      "Accuracy:\n",
      "0.9866\n",
      "\n",
      "\n",
      "On Step: 2800\n",
      "Accuracy:\n",
      "0.9873\n",
      "\n",
      "\n",
      "On Step: 2900\n",
      "Accuracy:\n",
      "0.9882\n",
      "\n",
      "\n",
      "On Step: 3000\n",
      "Accuracy:\n",
      "0.9876\n",
      "\n",
      "\n",
      "On Step: 3100\n",
      "Accuracy:\n",
      "0.9874\n",
      "\n",
      "\n",
      "On Step: 3200\n",
      "Accuracy:\n",
      "0.9909\n",
      "\n",
      "\n",
      "On Step: 3300\n",
      "Accuracy:\n",
      "0.9875\n",
      "\n",
      "\n",
      "On Step: 3400\n",
      "Accuracy:\n",
      "0.9887\n",
      "\n",
      "\n",
      "On Step: 3500\n",
      "Accuracy:\n",
      "0.991\n",
      "\n",
      "\n",
      "On Step: 3600\n",
      "Accuracy:\n",
      "0.9893\n",
      "\n",
      "\n",
      "On Step: 3700\n",
      "Accuracy:\n",
      "0.99\n",
      "\n",
      "\n",
      "On Step: 3800\n",
      "Accuracy:\n",
      "0.9901\n",
      "\n",
      "\n",
      "On Step: 3900\n",
      "Accuracy:\n",
      "0.9897\n",
      "\n",
      "\n",
      "On Step: 4000\n",
      "Accuracy:\n",
      "0.9882\n",
      "\n",
      "\n",
      "On Step: 4100\n",
      "Accuracy:\n",
      "0.9895\n",
      "\n",
      "\n",
      "On Step: 4200\n",
      "Accuracy:\n",
      "0.9913\n",
      "\n",
      "\n",
      "On Step: 4300\n",
      "Accuracy:\n",
      "0.9875\n",
      "\n",
      "\n",
      "On Step: 4400\n",
      "Accuracy:\n",
      "0.9915\n",
      "\n",
      "\n",
      "On Step: 4500\n",
      "Accuracy:\n",
      "0.9912\n",
      "\n",
      "\n",
      "On Step: 4600\n",
      "Accuracy:\n",
      "0.9904\n",
      "\n",
      "\n",
      "On Step: 4700\n",
      "Accuracy:\n",
      "0.9904\n",
      "\n",
      "\n",
      "On Step: 4800\n",
      "Accuracy:\n",
      "0.9907\n",
      "\n",
      "\n",
      "On Step: 4900\n",
      "Accuracy:\n",
      "0.9912\n",
      "\n",
      "\n"
     ]
    }
   ],
   "source": [
    "steps = 5000\n",
    "\n",
    "with tf.Session() as sess:\n",
    "    \n",
    "    sess.run(init)\n",
    "    \n",
    "    for i in range(steps):\n",
    "        \n",
    "        batch_x, batch_y = mnist.train.next_batch(50)\n",
    "        \n",
    "        sess.run(train, feed_dict={x:batch_x, y_true:batch_y, hold_prob:0.5})\n",
    "        \n",
    "        if i % 100 == 0:   # Every 100 steps\n",
    "            \n",
    "            print(f\"On Step: {i}\")\n",
    "            print(\"Accuracy:\")\n",
    "            \n",
    "            matches = tf.equal(tf.argmax(y_pred,1), tf.argmax(y_true,1))\n",
    "            \n",
    "            accuracy = tf.reduce_mean(tf.cast(matches, tf.float32))\n",
    "            \n",
    "            print(sess.run(accuracy,feed_dict={x:mnist.test.images, y_true:mnist.test.labels, hold_prob:1.0}))\n",
    "            print(\"\\n\")"
   ]
  }
 ],
 "metadata": {
  "kernelspec": {
   "display_name": "Python 3",
   "language": "python",
   "name": "python3"
  },
  "language_info": {
   "codemirror_mode": {
    "name": "ipython",
    "version": 3
   },
   "file_extension": ".py",
   "mimetype": "text/x-python",
   "name": "python",
   "nbconvert_exporter": "python",
   "pygments_lexer": "ipython3",
   "version": "3.6.3"
  }
 },
 "nbformat": 4,
 "nbformat_minor": 2
}
