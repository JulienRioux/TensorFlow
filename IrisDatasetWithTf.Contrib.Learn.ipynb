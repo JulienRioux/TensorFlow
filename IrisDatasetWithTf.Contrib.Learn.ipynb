{
 "cells": [
  {
   "cell_type": "markdown",
   "metadata": {},
   "source": [
    "# TensorFlow with Contrib.Learn"
   ]
  },
  {
   "cell_type": "code",
   "execution_count": 15,
   "metadata": {},
   "outputs": [],
   "source": [
    "import tensorflow.contrib.learn as learn"
   ]
  },
  {
   "cell_type": "code",
   "execution_count": 16,
   "metadata": {
    "collapsed": true
   },
   "outputs": [],
   "source": [
    "from sklearn.datasets import load_iris"
   ]
  },
  {
   "cell_type": "code",
   "execution_count": 17,
   "metadata": {},
   "outputs": [],
   "source": [
    "import tensorflow as tf\n",
    "import numpy as np"
   ]
  },
  {
   "cell_type": "code",
   "execution_count": 18,
   "metadata": {},
   "outputs": [],
   "source": [
    "iris = learn.datasets.load_dataset('iris')"
   ]
  },
  {
   "cell_type": "code",
   "execution_count": 19,
   "metadata": {
    "collapsed": true
   },
   "outputs": [],
   "source": [
    "X = iris.data\n",
    "y = iris.target"
   ]
  },
  {
   "cell_type": "code",
   "execution_count": 20,
   "metadata": {
    "collapsed": true
   },
   "outputs": [],
   "source": [
    "from sklearn.model_selection import train_test_split"
   ]
  },
  {
   "cell_type": "code",
   "execution_count": 21,
   "metadata": {
    "collapsed": true
   },
   "outputs": [],
   "source": [
    "X_train, X_test, y_train, y_test = train_test_split(X, y, test_size=0.3)"
   ]
  },
  {
   "cell_type": "code",
   "execution_count": 22,
   "metadata": {
    "scrolled": true
   },
   "outputs": [
    {
     "name": "stdout",
     "output_type": "stream",
     "text": [
      "WARNING:tensorflow:float64 is not supported by many models, consider casting to float32.\n"
     ]
    }
   ],
   "source": [
    "# Let's run a Deep Neural Network Classifier\n",
    "feature_columns = tf.contrib.learn.infer_real_valued_columns_from_input(X_train)"
   ]
  },
  {
   "cell_type": "code",
   "execution_count": 23,
   "metadata": {},
   "outputs": [
    {
     "name": "stdout",
     "output_type": "stream",
     "text": [
      "INFO:tensorflow:Using default config.\n",
      "WARNING:tensorflow:Using temporary folder as model directory: /var/folders/gf/bvnvfh0s21x1yrbw8vsz0mt00000gn/T/tmpehlle_hr\n",
      "INFO:tensorflow:Using config: {'_task_type': None, '_task_id': 0, '_cluster_spec': <tensorflow.python.training.server_lib.ClusterSpec object at 0x1c237ce630>, '_master': '', '_num_ps_replicas': 0, '_num_worker_replicas': 0, '_environment': 'local', '_is_chief': True, '_evaluation_master': '', '_tf_config': gpu_options {\n",
      "  per_process_gpu_memory_fraction: 1.0\n",
      "}\n",
      ", '_tf_random_seed': None, '_save_summary_steps': 100, '_save_checkpoints_secs': 600, '_log_step_count_steps': 100, '_session_config': None, '_save_checkpoints_steps': None, '_keep_checkpoint_max': 5, '_keep_checkpoint_every_n_hours': 10000, '_model_dir': '/var/folders/gf/bvnvfh0s21x1yrbw8vsz0mt00000gn/T/tmpehlle_hr'}\n"
     ]
    }
   ],
   "source": [
    "# Create a DNN of 3 hidden layers of 20 neurons eachs\n",
    "classifier = learn.DNNClassifier(feature_columns=feature_columns, hidden_units=[20,20,20], n_classes=3)"
   ]
  },
  {
   "cell_type": "code",
   "execution_count": 24,
   "metadata": {},
   "outputs": [
    {
     "name": "stdout",
     "output_type": "stream",
     "text": [
      "WARNING:tensorflow:float64 is not supported by many models, consider casting to float32.\n",
      "INFO:tensorflow:Create CheckpointSaverHook.\n",
      "INFO:tensorflow:Saving checkpoints for 1 into /var/folders/gf/bvnvfh0s21x1yrbw8vsz0mt00000gn/T/tmpehlle_hr/model.ckpt.\n",
      "INFO:tensorflow:loss = 1.13973, step = 1\n",
      "INFO:tensorflow:global_step/sec: 1171.7\n",
      "INFO:tensorflow:loss = 0.22831, step = 101 (0.086 sec)\n",
      "INFO:tensorflow:global_step/sec: 1328.27\n",
      "INFO:tensorflow:loss = 0.085371, step = 201 (0.075 sec)\n",
      "INFO:tensorflow:global_step/sec: 1334.1\n",
      "INFO:tensorflow:loss = 0.161352, step = 301 (0.075 sec)\n",
      "INFO:tensorflow:global_step/sec: 1301.75\n",
      "INFO:tensorflow:loss = 0.105845, step = 401 (0.076 sec)\n",
      "INFO:tensorflow:global_step/sec: 1262.13\n",
      "INFO:tensorflow:loss = 0.113686, step = 501 (0.079 sec)\n",
      "INFO:tensorflow:global_step/sec: 1307.19\n",
      "INFO:tensorflow:loss = 0.0921081, step = 601 (0.076 sec)\n",
      "INFO:tensorflow:global_step/sec: 1292.66\n",
      "INFO:tensorflow:loss = 0.048911, step = 701 (0.077 sec)\n",
      "INFO:tensorflow:global_step/sec: 1343.83\n",
      "INFO:tensorflow:loss = 0.0424674, step = 801 (0.075 sec)\n",
      "INFO:tensorflow:global_step/sec: 1292.23\n",
      "INFO:tensorflow:loss = 0.0716582, step = 901 (0.077 sec)\n",
      "INFO:tensorflow:Saving checkpoints for 1000 into /var/folders/gf/bvnvfh0s21x1yrbw8vsz0mt00000gn/T/tmpehlle_hr/model.ckpt.\n",
      "INFO:tensorflow:Loss for final step: 0.0599603.\n"
     ]
    },
    {
     "data": {
      "text/plain": [
       "DNNClassifier(params={'head': <tensorflow.contrib.learn.python.learn.estimators.head._MultiClassHead object at 0x1c23e1f668>, 'hidden_units': [20, 20, 20], 'feature_columns': (_RealValuedColumn(column_name='', dimension=4, default_value=None, dtype=tf.float64, normalizer=None),), 'optimizer': None, 'activation_fn': <function relu at 0x11beb3950>, 'dropout': None, 'gradient_clip_norm': None, 'embedding_lr_multipliers': None, 'input_layer_min_slice_size': None})"
      ]
     },
     "execution_count": 24,
     "metadata": {},
     "output_type": "execute_result"
    }
   ],
   "source": [
    "classifier.fit(X_train, y_train, steps=1000, batch_size=64)"
   ]
  },
  {
   "cell_type": "code",
   "execution_count": 25,
   "metadata": {},
   "outputs": [
    {
     "name": "stdout",
     "output_type": "stream",
     "text": [
      "WARNING:tensorflow:float64 is not supported by many models, consider casting to float32.\n",
      "INFO:tensorflow:Restoring parameters from /var/folders/gf/bvnvfh0s21x1yrbw8vsz0mt00000gn/T/tmpehlle_hr/model.ckpt-1000\n"
     ]
    }
   ],
   "source": [
    "iris_predictions = list(classifier.predict(X_test, as_iterable=True))"
   ]
  },
  {
   "cell_type": "code",
   "execution_count": 26,
   "metadata": {},
   "outputs": [
    {
     "name": "stdout",
     "output_type": "stream",
     "text": [
      "[1, 1, 0, 2, 2, 2, 0, 1, 2, 0, 2, 2, 2, 0, 2, 0, 1, 0, 2, 1, 2, 2, 0, 0, 0, 1, 1, 1, 1, 0, 0, 2, 1, 0, 2, 1, 2, 2, 0, 2, 1, 2, 0, 1, 0]\n"
     ]
    }
   ],
   "source": [
    "print(iris_predictions)"
   ]
  },
  {
   "cell_type": "code",
   "execution_count": 27,
   "metadata": {
    "collapsed": true
   },
   "outputs": [],
   "source": [
    "from sklearn.metrics import classification_report, confusion_matrix"
   ]
  },
  {
   "cell_type": "code",
   "execution_count": 28,
   "metadata": {
    "scrolled": true
   },
   "outputs": [
    {
     "name": "stdout",
     "output_type": "stream",
     "text": [
      "             precision    recall  f1-score   support\n",
      "\n",
      "          0       1.00      1.00      1.00        15\n",
      "          1       1.00      1.00      1.00        13\n",
      "          2       1.00      1.00      1.00        17\n",
      "\n",
      "avg / total       1.00      1.00      1.00        45\n",
      "\n",
      "\n",
      "\n",
      "[[15  0  0]\n",
      " [ 0 13  0]\n",
      " [ 0  0 17]]\n"
     ]
    }
   ],
   "source": [
    "print(classification_report(y_test, iris_predictions))\n",
    "print(\"\\n\")\n",
    "print(confusion_matrix(y_test, iris_predictions))"
   ]
  }
 ],
 "metadata": {
  "kernelspec": {
   "display_name": "Python 3",
   "language": "python",
   "name": "python3"
  },
  "language_info": {
   "codemirror_mode": {
    "name": "ipython",
    "version": 3
   },
   "file_extension": ".py",
   "mimetype": "text/x-python",
   "name": "python",
   "nbconvert_exporter": "python",
   "pygments_lexer": "ipython3",
   "version": "3.6.3"
  }
 },
 "nbformat": 4,
 "nbformat_minor": 2
}
